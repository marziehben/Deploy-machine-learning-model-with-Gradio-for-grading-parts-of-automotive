{
 "cells": [
  {
   "cell_type": "code",
   "execution_count": 3,
   "metadata": {},
   "outputs": [],
   "source": [
    "#import libraries\n",
    "import gradio as gr\n",
    "import numpy\n",
    "import sys\n",
    "import numpy as np\n",
    "from sklearn.neighbors import KNeighborsClassifier\n",
    "import pandas as pd\n",
    "import csv\n",
    "from sklearn.model_selection import KFold\n",
    "from sklearn.model_selection import cross_val_score\n",
    "from sklearn.metrics import confusion_matrix\n",
    "import sklearn.metrics as metrics\n",
    "import matplotlib.pyplot as plt\n",
    "import gradio as gr"
   ]
  },
  {
   "cell_type": "code",
   "execution_count": 5,
   "metadata": {},
   "outputs": [
    {
     "name": "stdout",
     "output_type": "stream",
     "text": [
      "Cross Validation Scores:  [0.81818182 0.71875    0.96875    0.96875    1.        ]\n",
      "Average CV Score:  0.8948863636363636\n",
      "Number of CV Scores used in Average:  5\n"
     ]
    }
   ],
   "source": [
    "# Read a CSV file and determine X features & y target\n",
    "df=pd.read_csv(\"C:\\\\project\\\\datatest.csv\")\n",
    "X=df.drop(\"level\",axis=1).values\n",
    "y=df.level.values\n",
    "\n",
    "\n",
    "#Build a model & get a Scores\n",
    "knn = KNeighborsClassifier(n_neighbors=3)\n",
    "knn.fit(X, y)\n",
    "\n",
    "k_folds = KFold(n_splits = 5)\n",
    "scores = cross_val_score(knn, X, y, cv = k_folds)\n",
    "print(\"Cross Validation Scores: \", scores)\n",
    "print(\"Average CV Score: \", scores.mean())\n",
    "print(\"Number of CV Scores used in Average: \", len(scores))\n",
    "y_true=df\n",
    "expected=y_true\n",
    "predict = knn.predict(X)\n",
    "confusion_matrix(y_true['level'], y_pred=predict)\n",
    "print(metrics.classification_report(y_true['level'], y_pred=predict))\n"
   ]
  },
  {
   "cell_type": "code",
   "execution_count": 6,
   "metadata": {},
   "outputs": [],
   "source": [
    "#Define function for prediction(classify) features with knn, then define a dictionary for grades of output\n",
    "def predict_grade(ppm, SR, repeat_of_alarm, not_po_ka_yoke, high_price):\n",
    "    \"\"\"\n",
    "    Predicts ppm, SR, repeat_of_alarm, not_po_ka_yoke, high_price.\n",
    "        \n",
    "    Returns:\n",
    "        Level : A, B, C, D, E, F\".\n",
    "    \"\"\"\n",
    "\n",
    "    # Reshape the input data for prediction\n",
    "    input_data = np.array([ppm, SR, repeat_of_alarm, not_po_ka_yoke, high_price]).reshape(1, -1)\n",
    "    \n",
    "    # Get the prediction\n",
    "    prediction = knn.predict(input_data)\n",
    "    \n",
    "    # Return the result\n",
    "    if prediction[0] == 0:\n",
    "        return \"A\"\n",
    "    elif prediction[0] == 1:\n",
    "        return \"B\"\n",
    "    elif prediction[0] == 2:\n",
    "        return \"C\"\n",
    "    elif prediction[0] == 3:\n",
    "        return \"D\"\n",
    "    elif prediction[0] == 4:\n",
    "        return \"E\"\n",
    "    elif prediction[0] == 5:\n",
    "        return \"F\"\n",
    "    \n",
    "    else:\n",
    "        raise Exception"
   ]
  },
  {
   "cell_type": "code",
   "execution_count": 7,
   "metadata": {},
   "outputs": [],
   "source": [
    "# Set the minimum, maximum, and default values for the sliders\n",
    "# This is optional\n",
    "sl_min = int(X[:,0].min().round(2))\n",
    "sl_max = int(X[:,0].max().round(2))\n",
    "sl_default = int(X[:,0].mean().round(2))\n",
    "\n",
    "sw_min = int(X[:,1].min().round(2))\n",
    "sw_max = int(X[:,1].max().round(2))\n",
    "sw_default = int(X[:,1].mean().round(2))\n",
    "\n",
    "\n",
    "\n",
    "sb_min = int(X[:,2].min().round(2)) \n",
    "sb_max = int(X[:,2].max().round(2)) \n",
    "sb_default = int(X[:,2].mean().round(2))\n",
    "\n",
    "\n",
    "\n",
    "\n",
    "sz_min =int(X[:,3].min().round(2)) \n",
    "sz_max = int(X[:,3].max().round(2))\n",
    "sz_default = int(X[:,3].mean().round(2))\n",
    "\n",
    "\n",
    "\n",
    "\n",
    "sh_min = int(X[:,4].min().round(2))\n",
    "sh_max = int(X[:,4].max().round(2)) \n",
    "sh_default = int(X[:,4].mean().round(2))"
   ]
  },
  {
   "cell_type": "code",
   "execution_count": 8,
   "metadata": {},
   "outputs": [
    {
     "name": "stdout",
     "output_type": "stream",
     "text": [
      "Running on local URL:  http://127.0.0.1:7860\n",
      "\n",
      "Could not create share link. Please check your internet connection or our status page: https://status.gradio.app.\n"
     ]
    },
    {
     "data": {
      "text/html": [
       "<div><iframe src=\"http://127.0.0.1:7860/\" width=\"100%\" height=\"500\" allow=\"autoplay; camera; microphone; clipboard-read; clipboard-write;\" frameborder=\"0\" allowfullscreen></iframe></div>"
      ],
      "text/plain": [
       "<IPython.core.display.HTML object>"
      ]
     },
     "metadata": {},
     "output_type": "display_data"
    },
    {
     "name": "stdout",
     "output_type": "stream",
     "text": [
      "Keyboard interruption in main thread... closing server.\n"
     ]
    },
    {
     "data": {
      "text/plain": []
     },
     "execution_count": 8,
     "metadata": {},
     "output_type": "execute_result"
    }
   ],
   "source": [
    "#Create the input component for Gradio since we are expecting 5 inputs amd 1 output as Grade\n",
    "iface = gr.Interface(\n",
    "    fn=predict_grade,\n",
    "    inputs=[\n",
    "        gr.components.Slider(minimum=sl_min, maximum=sl_max, \n",
    "        value=sl_default, label=\"PPM\"),\n",
    "        gr.components.Slider(minimum=sw_min, maximum=sw_max, \n",
    "        value=sw_default, label=\"SR\"),\n",
    "        gr.components.Slider(minimum=sb_min, maximum=sb_max, \n",
    "        value=sb_default, label=\"Repeat of Alarm\"),\n",
    "        gr.components.Slider(minimum=sz_min, maximum=sz_max, \n",
    "        value=sz_default, label=\"Not Pokayoka\"),\n",
    "        gr.components.Slider(minimum=sh_min, maximum=sh_max, \n",
    "        value=sh_default, label=\"High price\")\n",
    "        \n",
    "    ], \n",
    "    outputs=gr.components.Textbox(label=\"Grade of Part\"),\n",
    "    title=\"Classifier\",\n",
    "    description=\"\"\"Enter 0 for NOT & 1 for YES\"\"\")\n",
    "\n",
    "iface.launch(share=True,debug=True)"
   ]
  }
 ],
 "metadata": {
  "kernelspec": {
   "display_name": "Python 3",
   "language": "python",
   "name": "python3"
  },
  "language_info": {
   "codemirror_mode": {
    "name": "ipython",
    "version": 3
   },
   "file_extension": ".py",
   "mimetype": "text/x-python",
   "name": "python",
   "nbconvert_exporter": "python",
   "pygments_lexer": "ipython3",
   "version": "3.12.4"
  }
 },
 "nbformat": 4,
 "nbformat_minor": 2
}
